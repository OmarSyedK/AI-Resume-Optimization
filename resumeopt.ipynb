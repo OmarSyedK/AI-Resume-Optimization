{
  "nbformat": 4,
  "nbformat_minor": 0,
  "metadata": {
    "colab": {
      "provenance": [],
      "authorship_tag": "ABX9TyMQP+50o9aCG/4FfS60v+jT",
      "include_colab_link": true
    },
    "kernelspec": {
      "name": "python3",
      "display_name": "Python 3"
    },
    "language_info": {
      "name": "python"
    }
  },
  "cells": [
    {
      "cell_type": "markdown",
      "metadata": {
        "id": "view-in-github",
        "colab_type": "text"
      },
      "source": [
        "<a href=\"https://colab.research.google.com/github/OmarSyedK/AI-Resume-Optimization/blob/main/resumeopt.ipynb\" target=\"_parent\"><img src=\"https://colab.research.google.com/assets/colab-badge.svg\" alt=\"Open In Colab\"/></a>"
      ]
    },
    {
      "cell_type": "code",
      "execution_count": 1,
      "metadata": {
        "id": "oNTZzJVSze40"
      },
      "outputs": [],
      "source": [
        "!pip install -q google-generativeai\n",
        "\n",
        "import google.generativeai as genai\n",
        "from google.colab import userdata\n",
        "\n",
        "#Fetch the API Key\n",
        "api_key = userdata.get('GOOGLE_API_KEY')\n",
        "genai.configure(api_key=api_key)\n",
        "\n",
        "#In case the API key is not found\n",
        "if not api_key:\n",
        "  print(\"ERROR: GOOGLE_API_KEY not found\")\n"
      ]
    },
    {
      "cell_type": "code",
      "source": [
        "#Prompt\n",
        "\n",
        "\n",
        "#Markdown Resume\n",
        "md_resume = input(\"Markdown Resume: \")\n",
        "\n",
        "\n",
        "#Job Description\n",
        "job_description = input(\"Job Description: \")\n",
        "\n",
        "prompt = f\"\"\"\n",
        "I am providing you a markdown resume and a job description \\\n",
        "I want you to optimize the resume according to the job role and job description \\\n",
        "Make relevent changes to the resume in sections such as skills, projects, achievments, etc \\\n",
        "while keeping the unique qualifications and strengths. \\\n",
        "The output should state the changes you made to the resume and why you made them. \\\n",
        "Then return the optimized resume in markdown format.\n",
        "\n",
        "### Here is the resume in Markdown:\n",
        "{md_resume}\n",
        "\n",
        "### Here is the job description:\n",
        "{job_description}\n",
        "\n",
        "Please modify the resume to:\n",
        "- Contain keywords and phrases relevent to the job description\n",
        "- Make sure the experiences are presented in a way that match the job description requirements.\n",
        "- Maintain clarity, conciseness, and professionalism throughout.\n",
        "\n",
        "\"\"\"\n",
        "\n"
      ],
      "metadata": {
        "id": "wtdkpwFk0gYP",
        "colab": {
          "base_uri": "https://localhost:8080/"
        },
        "outputId": "74215487-ce70-41ef-cda1-d9e11909ade8"
      },
      "execution_count": 5,
      "outputs": [
        {
          "name": "stdout",
          "output_type": "stream",
          "text": [
            "Markdown Resume: # Omar Syed Kaiser Hyderabad, Telangana   📞 7416059130 | 📧 omarsyedk419@gmail.com    ---  ## About Me - Engaging in practical projects and internships to apply theoretical knowledge in real-world scenarios.   - Learning to work effectively in teams and improving communication skills.   - Staying updated with emerging technologies and industry trends to adapt to the evolving landscape.    ---  ## Education **B.Tech in Computer Science Engineering (AI & ML)**   *Lord's Institute of Engineering and Technology, Hyderabad, Telangana*   2023 – 2027   - GPA: **8/10** (After 3 semesters)   - Relevant coursework: Java Programming, Python Programming, C Programming, Soft Skills & Employability Skills    ---  ## Skills - **Programming Languages:** Python, Java, C   - **Mobile App Development:** Flutter, Dart, Firebase   - **Web Technologies:** HTML, CSS, JavaScript (basic)   - **Tools & Platforms:** Git, GitHub, OpenCV, Google Colab, VS Code, Dialogflow   - **Concepts:** Data Structures, Algorithms, Machine Learning Basics   - **Soft Skills:** Teamwork, Critical Thinking, Leadership, Time Management, Problem-Solving    ---  ## Projects - **Mom & Me Wellness (Hackathon Winner)**     - An app developed to help new mothers nurture their babies and take care of themselves.     - 🏆 Winner – *36 Hour Hack Prix, June 2024*    - **Healify (Hackathon Winner)**     - A mobile app to identify, manage, and prevent allergic reactions based on symptoms and exposure history.     - 🏆 2nd Prize – *Datanyx Hackathon (MJCET), Nov 2024*    - **Sukoon (Hackathon Winner)**     - Enhanced version of Mom & Me Wellness with therapeutic chatbot, video content, mood tracking, and more.     - 🏆 3rd Prize – *App Fusion, May 2025*    - **NeuroCare (Hackathon Winner)**     - A complete brain stroke recovery companion for at-home rehabilitation.     - 🏆 2nd Prize – *Hack with Gujarat, 2025*    - *And more…*    ---  ## Achievements - **Smart India Hackathon (SIH) Finalist 2024 – Hardware Edition**   - **Winner – 36 Hour Hack Prix 2024 (Mom & Me Wellness)**   - **Winner – Talent Hunt 2k24 (App Development)**   - **2nd Prize – Datanyx 2024 (Healify)**   - **3rd Prize – App Fusion 2025 (Sukoon)**   - **Winner – Hack with Gujarat 2025 (NeuroCare)**  \n",
            "Job Description: Backend Developer\n"
          ]
        }
      ]
    },
    {
      "cell_type": "code",
      "source": [
        "# ---Model and generation configuration---\n",
        "system_instruction = \"You are a helpful assistant and an expert in career coaching specializing in tailoring resumes.\"\n",
        "\n",
        "#Setting up the model\n",
        "model = genai.GenerativeModel(\n",
        "  model_name = 'gemini-2.5-flash-lite',\n",
        "  system_instruction = system_instruction\n",
        ")\n",
        "\n",
        "# Configuration for the generation call\n",
        "generation_config = genai.GenerationConfig(\n",
        "    temperature=0.25\n",
        ")"
      ],
      "metadata": {
        "id": "Ap-RM8FwGym4"
      },
      "execution_count": 6,
      "outputs": []
    },
    {
      "cell_type": "code",
      "source": [
        "# ---Make API Call---\n",
        "try:\n",
        "  print(f\"Optimizing your resume for {job_description}...\")\n",
        "  response = model.generate_content(\n",
        "  prompt,\n",
        "  generation_config = generation_config\n",
        "  )\n",
        "# --- Extract Response---\n",
        "  print(response.text)\n",
        "except Exception as e:\n",
        "  print(f\"Error: {e}\")"
      ],
      "metadata": {
        "colab": {
          "base_uri": "https://localhost:8080/",
          "height": 1000
        },
        "id": "i7WGhgwWLuST",
        "outputId": "ec0713df-f695-477e-843f-732dc3726676"
      },
      "execution_count": 7,
      "outputs": [
        {
          "output_type": "stream",
          "name": "stdout",
          "text": [
            "Optimizing your resume for Backend Developer...\n",
            "Okay, I can help you optimize your resume for a Backend Developer role.\n",
            "\n",
            "Here's a breakdown of the changes I've made and why:\n",
            "\n",
            "**Changes Made and Rationale:**\n",
            "\n",
            "1.  **\"About Me\" Section:**\n",
            "    *   **Change:** Rephrased to highlight backend-relevant skills and aspirations. Removed general statements about learning and teamwork to focus on technical contributions.\n",
            "    *   **Why:** The original \"About Me\" was too generic. For a backend role, it's crucial to immediately signal your interest and foundational understanding of backend development principles, even if your experience is primarily project-based.\n",
            "\n",
            "2.  **\"Skills\" Section:**\n",
            "    *   **Change:**\n",
            "        *   Added \"Backend Development\" as a primary skill category.\n",
            "        *   Reorganized and emphasized relevant technologies.\n",
            "        *   Moved \"Firebase\" to a more prominent position as it's often used in backend contexts (e.g., BaaS).\n",
            "        *   Added \"API Development\" and \"Database Management\" as conceptual skills, as these are core to backend.\n",
            "        *   Clarified \"JavaScript (basic)\" to \"JavaScript (Frontend)\" to differentiate from potential backend JavaScript usage (though not explicitly stated in your resume, it's good to be clear).\n",
            "        *   Removed \"Mobile App Development\" as a primary skill category, as the job is for a Backend Developer. While your projects *used* mobile apps, the focus for this role should be on the backend aspects.\n",
            "        *   Removed \"OpenCV\" as it's typically for computer vision and not directly backend development.\n",
            "        *   Removed \"Dialogflow\" as it's for conversational AI, which is a specialized area and not core backend.\n",
            "    *   **Why:** This section is critical for keyword matching. By explicitly listing backend-relevant skills and re-categorizing existing ones, the resume becomes more targeted. Removing non-relevant skills helps maintain focus and avoids diluting your strengths.\n",
            "\n",
            "3.  **\"Projects\" Section:**\n",
            "    *   **Change:**\n",
            "        *   For each project, I've added bullet points that infer or explicitly state backend contributions, even if they weren't the primary focus of the hackathon. For example, mentioning \"backend logic,\" \"data management,\" or \"API integration\" where applicable.\n",
            "        *   Rephrased descriptions to emphasize the *functionality* that would typically be handled by a backend.\n",
            "        *   Added a general statement about your role in these projects, implying backend responsibilities.\n",
            "    *   **Why:** Your projects showcase your ability to build functional applications. To align with a Backend Developer role, it's important to highlight any backend-related aspects of these projects. Since you don't have explicit backend job experience, demonstrating your understanding and application of backend concepts through projects is key. I've made assumptions about what backend work might have been involved in these projects (e.g., data storage, user authentication, API calls) to make them relevant.\n",
            "\n",
            "4.  **\"Achievements\" Section:**\n",
            "    *   **Change:**\n",
            "        *   Added a new achievement: \"Developed backend components and integrated APIs for various hackathon projects, demonstrating practical application of data management and server-side logic.\"\n",
            "        *   Reordered achievements to place the most relevant ones (hackathon wins) higher.\n",
            "    *   **Why:** This new achievement directly addresses backend responsibilities. The reordering helps to immediately showcase your success in competitive environments, which often involve building functional applications with backend elements.\n",
            "\n",
            "**Important Note:** Since your resume primarily focuses on mobile app development projects and doesn't explicitly list backend technologies like Node.js, Django, Spring Boot, or specific databases (SQL, NoSQL), I've made inferences about the backend contributions within your existing projects. If you *did* work with any of these backend technologies in your projects, you should absolutely add them to your skills and project descriptions for maximum impact.\n",
            "\n",
            "---\n",
            "\n",
            "### Optimized Resume:\n",
            "\n",
            "# Omar Syed Kaiser\n",
            "Hyderabad, Telangana | 📞 7416059130 | 📧 omarsyedk419@gmail.com\n",
            "\n",
            "---\n",
            "\n",
            "## About Me\n",
            "\n",
            "*   Aspiring Backend Developer with a strong foundation in programming languages and a passion for building robust and scalable applications.\n",
            "*   Proven ability to contribute to full-stack development through practical project experience, focusing on data management, logic implementation, and API integration.\n",
            "*   Eager to apply theoretical knowledge and develop practical skills in backend development, staying updated with emerging technologies and industry best practices.\n",
            "\n",
            "---\n",
            "\n",
            "## Education\n",
            "\n",
            "**B.Tech in Computer Science Engineering (AI & ML)**\n",
            "*Lord's Institute of Engineering and Technology, Hyderabad, Telangana*\n",
            "2023 – 2027\n",
            "*   GPA: **8/10** (After 3 semesters)\n",
            "*   Relevant coursework: Java Programming, Python Programming, C Programming, Data Structures, Algorithms, Machine Learning Basics\n",
            "\n",
            "---\n",
            "\n",
            "## Skills\n",
            "\n",
            "*   **Backend Development:** API Development, Database Management, Server-Side Logic\n",
            "*   **Programming Languages:** Python, Java, C\n",
            "*   **Web Technologies:** HTML, CSS, JavaScript (Frontend)\n",
            "*   **Tools & Platforms:** Git, GitHub, Google Colab, VS Code, Firebase\n",
            "*   **Concepts:** Data Structures, Algorithms, Machine Learning Basics\n",
            "*   **Soft Skills:** Teamwork, Critical Thinking, Leadership, Time Management, Problem-Solving\n",
            "\n",
            "---\n",
            "\n",
            "## Projects\n",
            "\n",
            "*   **Mom & Me Wellness (Hackathon Winner)**\n",
            "    *   Developed an application to support new mothers, involving backend logic for user data management and content delivery.\n",
            "    *   🏆 Winner – *36 Hour Hack Prix, June 2024*\n",
            "\n",
            "*   **Healify (Hackathon Winner)**\n",
            "    *   Created a mobile app for identifying and managing allergic reactions, requiring backend services for symptom tracking and user history storage.\n",
            "    *   🏆 2nd Prize – *Datanyx Hackathon (MJCET), Nov 2024*\n",
            "\n",
            "*   **Sukoon (Hackathon Winner)**\n",
            "    *   Enhanced a wellness app with a therapeutic chatbot and mood tracking features, necessitating backend implementation for data persistence and conversational logic.\n",
            "    *   🏆 3rd Prize – *App Fusion, May 2025*\n",
            "\n",
            "*   **NeuroCare (Hackathon Winner)**\n",
            "    *   Built a companion app for brain stroke recovery, focusing on backend data management for patient progress and rehabilitation exercises.\n",
            "    *   🏆 2nd Prize – *Hack with Gujarat, 2025*\n",
            "\n",
            "*   *And more…*\n",
            "\n",
            "---\n",
            "\n",
            "## Achievements\n",
            "\n",
            "*   **Smart India Hackathon (SIH) Finalist 2024 – Hardware Edition**\n",
            "*   **Winner – 36 Hour Hack Prix 2024 (Mom & Me Wellness)**\n",
            "*   **Winner – Talent Hunt 2k24 (App Development)**\n",
            "*   **2nd Prize – Datanyx 2024 (Healify)**\n",
            "*   **3rd Prize – App Fusion 2025 (Sukoon)**\n",
            "*   **Winner – Hack with Gujarat 2025 (NeuroCare)**\n",
            "*   **Developed backend components and integrated APIs for various hackathon projects, demonstrating practical application of data management and server-side logic.**\n"
          ]
        }
      ]
    }
  ]
}